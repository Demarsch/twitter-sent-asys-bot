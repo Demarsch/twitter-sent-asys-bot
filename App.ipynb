{
 "cells": [
  {
   "cell_type": "code",
   "execution_count": 1,
   "metadata": {},
   "outputs": [],
   "source": [
    "def inf(text):\n",
    "    print(f'INFO : {text}')\n",
    "    \n",
    "def err(text):\n",
    "    print(f'ERROR: {text}')"
   ]
  },
  {
   "cell_type": "code",
   "execution_count": 2,
   "metadata": {},
   "outputs": [
    {
     "name": "stdout",
     "output_type": "stream",
     "text": [
      "INFO : All dependencies were imported successfully\n"
     ]
    }
   ],
   "source": [
    "# Imports and setup\n",
    "from datetime import datetime, time\n",
    "import numpy as np\n",
    "import matplotlib.pyplot as plt\n",
    "import os\n",
    "import pandas as pd\n",
    "import tweepy\n",
    "from vaderSentiment.vaderSentiment import SentimentIntensityAnalyzer\n",
    "inf('All dependencies were imported successfully')"
   ]
  },
  {
   "cell_type": "code",
   "execution_count": 3,
   "metadata": {},
   "outputs": [
    {
     "name": "stdout",
     "output_type": "stream",
     "text": [
      "INFO : Twitter auth tokens are configured\n"
     ]
    }
   ],
   "source": [
    "# Get config variable from environment variables\n",
    "consumer_key = os.environ.get('twitter_sent_bot_key')\n",
    "consumer_secret = os.environ.get('twitter_sent_bot_secret')\n",
    "access_token = os.environ.get('twitter_sent_bot_token')\n",
    "access_token_secret = os.environ.get('twitter_sent_bot_token_secret')\n",
    "if None in [consumer_key, consumer_secret, access_token, access_token_secret]:\n",
    "    err('Twitter auth tokens are not set as enviroment variables')\n",
    "    exit(1)\n",
    "else:\n",
    "    inf('Twitter auth tokens are configured')"
   ]
  },
  {
   "cell_type": "code",
   "execution_count": 4,
   "metadata": {},
   "outputs": [
    {
     "name": "stdout",
     "output_type": "stream",
     "text": [
      "INFO : Twitter authentication is performed successfully\n"
     ]
    }
   ],
   "source": [
    "# Setup Tweepy API Authentication\n",
    "auth = tweepy.OAuthHandler(consumer_key, consumer_secret)\n",
    "auth.set_access_token(access_token, access_token_secret)\n",
    "api = tweepy.API(auth, parser=tweepy.parsers.JSONParser())\n",
    "inf('Twitter authentication is performed successfully')"
   ]
  },
  {
   "cell_type": "code",
   "execution_count": 5,
   "metadata": {},
   "outputs": [
    {
     "name": "stdout",
     "output_type": "stream",
     "text": [
      "INFO : The application is ran under ChaplyginAndrei Twitter user\n"
     ]
    }
   ],
   "source": [
    "self_user = api.me()\n",
    "self_username = self_user['screen_name']\n",
    "inf(f'The application is ran under {self_username} Twitter user')"
   ]
  },
  {
   "cell_type": "code",
   "execution_count": 6,
   "metadata": {},
   "outputs": [],
   "source": [
    "def get_mentions(api, self_username, since_id=None):\n",
    "    mention_count = 20\n",
    "    if since_id:\n",
    "        inf(f'Retrieving last {mention_count} mentions of user \"{self_username}\" done after {since_id}...')\n",
    "    else:\n",
    "        inf(f'Retrieving last {mention_count} mentions of user \"{self_username}\"')\n",
    "    mentions = api.search(f'@{self_username}',rpp=mention_count, since_id=since_id).get('statuses')\n",
    "    mentions = [{\n",
    "        'id': mention['id'],\n",
    "        'text': mention['text'],\n",
    "        'user_mentions': [user_mention['screen_name'] for user_mention in mention['entities']['user_mentions']],\n",
    "        'user' : mention['user']['screen_name']        \n",
    "    } for mention in mentions]\n",
    "    if len(mentions) == 0:\n",
    "        inf(f'No mentions of \"{self_username}\" were retrieved at this time')\n",
    "    else:\n",
    "        inf(f'Retrieved {len(mentions)} mentions of user \"{self_username}\"')\n",
    "    return mentions    "
   ]
  },
  {
   "cell_type": "code",
   "execution_count": 7,
   "metadata": {},
   "outputs": [],
   "source": [
    "def get_tweets(api, target_username):\n",
    "    #TODO: add logging\n",
    "    max_id = None\n",
    "    all_tweets = []\n",
    "    pages = 1\n",
    "    tweets_per_page = 100\n",
    "    for page in range(1, pages + 1):\n",
    "        tweets = api.user_timeline(target_username, page=page, count=tweets_per_page, max_id=max_id)\n",
    "        tweets = [ {\n",
    "            'id': tweet['id'],\n",
    "            'text': tweet['text'],\n",
    "        } for tweet in tweets]\n",
    "        all_tweets += tweets\n",
    "        if not max_id and len(tweets) > 0:\n",
    "            max_id = tweets[0]['id']\n",
    "        if len(tweets) < tweets_per_page:\n",
    "            break\n",
    "    return all_tweets "
   ]
  },
  {
   "cell_type": "code",
   "execution_count": 8,
   "metadata": {},
   "outputs": [],
   "source": [
    "def analyze_tweets(api, target_username):\n",
    "    #TODO: check that analysis was not yet performed\n",
    "    #TODO: add logging\n",
    "    tweets = get_tweets(api, target_username)\n",
    "    analyzer = SentimentIntensityAnalyzer()\n",
    "    scores = [analyzer.polarity_scores(tweet['text'])['compound'] for tweet in tweets]\n",
    "    return pd.DataFrame(scores, columns=['Polarity'], index=[-i for i in range(0, len(tweets))])"
   ]
  },
  {
   "cell_type": "code",
   "execution_count": 9,
   "metadata": {},
   "outputs": [],
   "source": [
    "def get_color(polarity):\n",
    "    return (0, polarity, 0) if polarity >= 0 else (-polarity, 0, 0)"
   ]
  },
  {
   "cell_type": "code",
   "execution_count": 10,
   "metadata": {},
   "outputs": [],
   "source": [
    "def plot_analysis(data, target_username):\n",
    "    plt.figure(figsize=(16, 8))\n",
    "    avg_polarity = data['Polarity'].mean()\n",
    "    avg_polarity_text = 'Very Positive' if avg_polarity >= 0.75 else \\\n",
    "                        'Positive' if avg_polarity >= 0.5 else \\\n",
    "                        'Positively Neutral' if avg_polarity >= 0 else \\\n",
    "                        'Negatively Neutral' if avg_polarity >= -0.5 else \\\n",
    "                        'Negative' if avg_polarity >= -0.75 else \\\n",
    "                        'Very Negative'\n",
    "    color = get_color(avg_polarity)\n",
    "    plt.plot(data.index, data['Polarity'], c=color, linewidth=1, linestyle='solid', marker='o', markersize=3)\n",
    "    plt.xlim(-len(data.index) + 1, 0)\n",
    "    plt.xlabel('Tweets Age', fontsize=16)\n",
    "    plt.ylabel('Tweet Polarity', fontsize=16)\n",
    "    plt.xticks(fontsize=16)\n",
    "    plt.yticks([-1, -0.5, 0, 0.5, 1], ['Strongly\\nNegative', 'Likely\\nNegative', 'Neutral', 'Likely\\nPositive', 'Strongly\\nPositive'], fontsize=16, ma='left')\n",
    "    plt.title(f'Sentiment Analysis of @{target_username} Tweets ({datetime.strftime(datetime.now(), \"%M/%D/%Y\")}\\n(Generally, a {avg_polarity_text} User)',fontsize=16)\n",
    "    plt.grid(alpha=0.3)\n",
    "    file_name = f'{target_username}.png'\n",
    "    plt.savefig(file_name)\n",
    "    return file_name"
   ]
  },
  {
   "cell_type": "code",
   "execution_count": 18,
   "metadata": {},
   "outputs": [],
   "source": [
    "def post_analysis(api, file_name, target_username, in_reply_to_username, in_reply_to_status_id):\n",
    "    tweet_text = f'Hi @{in_reply_to_username} here is the analysis of @{target_username} tweets'\n",
    "    try:        \n",
    "        api.update_with_media(file_name, tweet_text, in_reply_to_status_id=in_reply_to_status_id)\n",
    "        inf(f'Successfully posted a tweet \"{tweet_text}\"')\n",
    "    except Exception as e:\n",
    "        err(f'Failed to post the following tweet \"{tweet_text}\"')\n",
    "        err(e)"
   ]
  },
  {
   "cell_type": "code",
   "execution_count": 19,
   "metadata": {},
   "outputs": [],
   "source": [
    "def post_already_analyzed_notifiction(api, target_user, reply_to_user, in_reply_to_status_id):\n",
    "    tweet_text = f'Hi @{reply_to_user}, I\\'ve already analyzed @{target_user} tweets, find it in my timeline'\n",
    "    try:\n",
    "        api.update_status(tweet_text, in_reply_to_status_id)\n",
    "        inf(f'Successfully posted a tweet \"{tweet_text}\"')\n",
    "    except Exception as e:\n",
    "        err(f'Failed to post the following tweet \"{tweet_text}\"')\n",
    "        err(e)    "
   ]
  },
  {
   "cell_type": "code",
   "execution_count": 12,
   "metadata": {},
   "outputs": [],
   "source": [
    "analyzed_users = set()\n",
    "notified_users = {}"
   ]
  },
  {
   "cell_type": "code",
   "execution_count": null,
   "metadata": {},
   "outputs": [],
   "source": [
    "since_id = None\n",
    "while True:\n",
    "    mentions = get_mentions(api, self_username, since_id)\n",
    "    if len(mentions) > 0:\n",
    "        since_id = mentions[0]['id']\n",
    "    for mention in mentions:\n",
    "        tweet_text = mention['text']\n",
    "        requested_by = mention['user']\n",
    "        self_tweet = requested_by == self_username\n",
    "        if self_tweet:\n",
    "            inf(f'Tweet \"{tweet_text}\" is done by the target user himself, so no need to react to it')\n",
    "            #continue\n",
    "        all_mentions = mention['user_mentions']\n",
    "        other_users_mentions = set(all_mentions)  \n",
    "        other_users_mentions.discard(self_username)\n",
    "        self_analysis = len(all_mentions) > 1 and len(other_users_mentions) == 0\n",
    "        if self_analysis:\n",
    "            inf(f'Tweet \"{tweet_text}\" is done by \"{requested_by}\" but asks \"{self_username}\" to analyze himself')\n",
    "            #TODO: tweet about it\n",
    "            continue\n",
    "        if len(other_users_mentions) > 1:\n",
    "            inf(f'Tweet \"{tweet_text}\" is done by \"{requested_by}\" but asks \"{self_username}\" to analyze multiple user')\n",
    "            #TODO: tweet about it\n",
    "            continue\n",
    "        target_username = other_users_mentions.pop()\n",
    "        # First we check if we've already analyzed the target user\n",
    "        if target_username in analyzed_users:\n",
    "            # If we did, then we check if we've already notified the requestor about it\n",
    "            notified_requestor_about = notified_users.setdefault(requested_by, set())\n",
    "            # If we did then we do nothing (so we don't duplicate the notification)\n",
    "            if target_username in notified_requestor_about:\n",
    "                continue\n",
    "            else:\n",
    "                notified_requestor_about.add(target_username)\n",
    "                post_already_analyzed_notifiction(api, target_username, requested_by, mention['id'])\n",
    "                continue\n",
    "        else:\n",
    "            analyzed_users.add(target_username)                \n",
    "        # Peform the analysis\n",
    "        tweets_analysis = analyze_tweets(api, target_username)\n",
    "        plot_image = plot_analysis(tweets_analysis)\n",
    "        post_analysis(api, plot_image, target_username, requested_by, mentiond['id'])        "
   ]
  }
 ],
 "metadata": {
  "kernelspec": {
   "display_name": "Python [default]",
   "language": "python",
   "name": "python3"
  },
  "language_info": {
   "codemirror_mode": {
    "name": "ipython",
    "version": 3
   },
   "file_extension": ".py",
   "mimetype": "text/x-python",
   "name": "python",
   "nbconvert_exporter": "python",
   "pygments_lexer": "ipython3",
   "version": "3.6.5"
  }
 },
 "nbformat": 4,
 "nbformat_minor": 2
}
