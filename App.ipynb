{
 "cells": [
  {
   "cell_type": "code",
   "execution_count": 1,
   "metadata": {},
   "outputs": [],
   "source": [
    "def inf(text):\n",
    "    print(f'INFO : {text}')\n",
    "    \n",
    "def err(text):\n",
    "    print(f'ERROR: {text}')"
   ]
  },
  {
   "cell_type": "code",
   "execution_count": 2,
   "metadata": {},
   "outputs": [
    {
     "name": "stdout",
     "output_type": "stream",
     "text": [
      "INFO : All dependencies were imported successfully\n"
     ]
    }
   ],
   "source": [
    "# Imports and setup\n",
    "from datetime import datetime, time\n",
    "import numpy as np\n",
    "import matplotlib.pyplot as plt\n",
    "import os\n",
    "import pandas as pd\n",
    "import tweepy\n",
    "from vaderSentiment.vaderSentiment import SentimentIntensityAnalyzer\n",
    "inf('All dependencies were imported successfully')"
   ]
  },
  {
   "cell_type": "code",
   "execution_count": 3,
   "metadata": {},
   "outputs": [
    {
     "name": "stdout",
     "output_type": "stream",
     "text": [
      "INFO : Twitter auth tokens are configured\n"
     ]
    }
   ],
   "source": [
    "# Get config variable from environment variables\n",
    "consumer_key = os.environ.get('twitter_sent_bot_key')\n",
    "consumer_secret = os.environ.get('twitter_sent_bot_secret')\n",
    "access_token = os.environ.get('twitter_sent_bot_token')\n",
    "access_token_secret = os.environ.get('twitter_sent_bot_token_secret')\n",
    "if '' in [consumer_key, consumer_secret, access_token, access_token_secret]:\n",
    "    err('Twitter auth tokens are not set as enviroment variables')\n",
    "    exit(1)\n",
    "else:\n",
    "    inf('Twitter auth tokens are configured')"
   ]
  },
  {
   "cell_type": "code",
   "execution_count": 4,
   "metadata": {},
   "outputs": [
    {
     "name": "stdout",
     "output_type": "stream",
     "text": [
      "INFO : Twitter authentication is performed successfully\n"
     ]
    }
   ],
   "source": [
    "# Setup Tweepy API Authentication\n",
    "auth = tweepy.OAuthHandler(consumer_key, consumer_secret)\n",
    "auth.set_access_token(access_token, access_token_secret)\n",
    "api = tweepy.API(auth, parser=tweepy.parsers.JSONParser())\n",
    "inf('Twitter authentication is performed successfully')"
   ]
  },
  {
   "cell_type": "code",
   "execution_count": 5,
   "metadata": {},
   "outputs": [
    {
     "name": "stdout",
     "output_type": "stream",
     "text": [
      "INFO : The application is ran under ChaplyginAndrei Twitter user\n"
     ]
    }
   ],
   "source": [
    "self_user = api.me()\n",
    "self_username = self_user['screen_name']\n",
    "inf(f'The application is ran under {self_username} Twitter user')"
   ]
  },
  {
   "cell_type": "code",
   "execution_count": 6,
   "metadata": {},
   "outputs": [],
   "source": [
    "def get_mentions(api, self_username, since_id=None):\n",
    "    mention_count = 20\n",
    "    if since_id:\n",
    "        inf(f'Retrieving last {mention_count} mentions of user \"{self_username}\" done after {since_id}...')\n",
    "    else:\n",
    "        inf(f'Retrieving last {mention_count} mentions of user \"{self_username}\"')\n",
    "    mentions = api.search(f'@{self_username}',rpp=mention_count, since_id=since_id).get('statuses')\n",
    "    mentions = [{\n",
    "        'id': mention['id'],\n",
    "        'text': mention['text'],\n",
    "        'user_mentions': [user_mention['screen_name'] for user_mention in mention['entities']['user_mentions']],\n",
    "        'user' : mention['user']['screen_name']        \n",
    "    } for mention in mentions]\n",
    "    if len(mentions) == 0:\n",
    "        inf(f'No mentions of \"{self_username}\" were retrieved at this time')\n",
    "    else:\n",
    "        inf(f'Retrieved {len(mentions)} mentions of user \"{self_username}\"')\n",
    "    return mentions    "
   ]
  },
  {
   "cell_type": "code",
   "execution_count": 7,
   "metadata": {},
   "outputs": [
    {
     "name": "stdout",
     "output_type": "stream",
     "text": [
      "INFO : Retrieving last 20 mentions of user \"ChaplyginAndrei\"\n",
      "INFO : Retrieved 3 mentions of user \"ChaplyginAndrei\"\n"
     ]
    },
    {
     "data": {
      "text/plain": [
       "[{'id': 1045214994709721088,\n",
       "  'text': \"Hi @ChaplyginAndrei, I'm mentioning you twice @ChaplyginAndrei\",\n",
       "  'user_mentions': ['ChaplyginAndrei', 'ChaplyginAndrei'],\n",
       "  'user': 'ChaplyginAndrei'},\n",
       " {'id': 1045199862004776960,\n",
       "  'text': 'Mentioning myself again. Hi, @ChaplyginAndrei',\n",
       "  'user_mentions': ['ChaplyginAndrei'],\n",
       "  'user': 'ChaplyginAndrei'},\n",
       " {'id': 1045198910505943040,\n",
       "  'text': 'Mentioning myself @ChaplyginAndrei',\n",
       "  'user_mentions': ['ChaplyginAndrei'],\n",
       "  'user': 'ChaplyginAndrei'}]"
      ]
     },
     "execution_count": 7,
     "metadata": {},
     "output_type": "execute_result"
    }
   ],
   "source": []
  },
  {
   "cell_type": "code",
   "execution_count": 8,
   "metadata": {},
   "outputs": [],
   "source": [
    "def get_tweets(api, target_username):\n",
    "    #TODO: add logging\n",
    "    max_id = None\n",
    "    all_tweets = []\n",
    "    pages = 1\n",
    "    tweets_per_page = 100\n",
    "    for page in range(1, pages + 1):\n",
    "        tweets = api.user_timeline(target_username, page=page, count=tweets_per_page, max_id=max_id)\n",
    "        tweets = [ {\n",
    "            'id': tweet['id'],\n",
    "            'text': tweet['text'],\n",
    "        } for tweet in tweets]\n",
    "        all_tweets += tweets\n",
    "        if not max_id and len(tweets) > 0:\n",
    "            max_id = tweets[0]['id']\n",
    "        if len(tweets) < tweets_per_page:\n",
    "            break\n",
    "    return all_tweets "
   ]
  },
  {
   "cell_type": "code",
   "execution_count": 9,
   "metadata": {},
   "outputs": [],
   "source": [
    "def analyze_tweets(api, target_username):\n",
    "    #TODO: check that analysis was not yet performed\n",
    "    #TODO: add logging\n",
    "    tweets = get_tweets(api, target_username)\n",
    "    analyzer = SentimentIntensityAnalyzer()\n",
    "    scores = [analyzer.polarity_scores(tweet['text'])['compound'] for tweet in tweets]\n",
    "    return pd.DataFrame(scores, columns=['Polarity'], index=[-i for i in range(0, len(tweets))])"
   ]
  },
  {
   "cell_type": "code",
   "execution_count": 10,
   "metadata": {},
   "outputs": [
    {
     "name": "stdout",
     "output_type": "stream",
     "text": [
      "INFO : Tweet \"Hi @ChaplyginAndrei, I'm mentioning you twice @ChaplyginAndrei\" is done by the target user himself, so no need to react to it\n",
      "INFO : Tweet \"Hi @ChaplyginAndrei, I'm mentioning you twice @ChaplyginAndrei\" is done by \"ChaplyginAndrei\" but asks \"ChaplyginAndrei\" to analyze himself\n",
      "INFO : Tweet \"Mentioning myself again. Hi, @ChaplyginAndrei\" is done by the target user himself, so no need to react to it\n",
      "INFO : Tweet \"Mentioning myself @ChaplyginAndrei\" is done by the target user himself, so no need to react to it\n"
     ]
    }
   ],
   "source": [
    "for mention in mentions:\n",
    "    tweet_text = mention['text']\n",
    "    requested_by = mention['user']\n",
    "    self_tweet = requested_by == self_username\n",
    "    if self_tweet:\n",
    "        inf(f'Tweet \"{tweet_text}\" is done by the target user himself, so no need to react to it')\n",
    "    #    continue\n",
    "    all_mentions = mention['user_mentions']\n",
    "    other_users_mentions = set(all_mentions)  \n",
    "    other_users_mentions.discard(self_username)\n",
    "    self_analysis = len(all_mentions) > 1 and len(other_users_mentions) == 0\n",
    "    if self_analysis:\n",
    "        inf(f'Tweet \"{tweet_text}\" is done by \"{requested_by}\" but asks \"{self_username}\" to analyze himself')\n",
    "        #TODO: tweet about it\n",
    "        continue\n",
    "    if len(other_users_mentions) > 1:\n",
    "        inf(f'Tweet \"{tweet_text}\" is done by \"{requested_by}\" but asks \"{self_username}\" to analyze multiple user')\n",
    "        #TODO: tweet about it\n",
    "        continue"
   ]
  },
  {
   "cell_type": "code",
   "execution_count": 11,
   "metadata": {},
   "outputs": [
    {
     "data": {
      "text/html": [
       "<div>\n",
       "<style scoped>\n",
       "    .dataframe tbody tr th:only-of-type {\n",
       "        vertical-align: middle;\n",
       "    }\n",
       "\n",
       "    .dataframe tbody tr th {\n",
       "        vertical-align: top;\n",
       "    }\n",
       "\n",
       "    .dataframe thead th {\n",
       "        text-align: right;\n",
       "    }\n",
       "</style>\n",
       "<table border=\"1\" class=\"dataframe\">\n",
       "  <thead>\n",
       "    <tr style=\"text-align: right;\">\n",
       "      <th></th>\n",
       "      <th>Polarity</th>\n",
       "    </tr>\n",
       "  </thead>\n",
       "  <tbody>\n",
       "    <tr>\n",
       "      <th>0</th>\n",
       "      <td>0.7269</td>\n",
       "    </tr>\n",
       "    <tr>\n",
       "      <th>-1</th>\n",
       "      <td>0.0000</td>\n",
       "    </tr>\n",
       "    <tr>\n",
       "      <th>-2</th>\n",
       "      <td>0.3595</td>\n",
       "    </tr>\n",
       "    <tr>\n",
       "      <th>-3</th>\n",
       "      <td>0.0000</td>\n",
       "    </tr>\n",
       "    <tr>\n",
       "      <th>-4</th>\n",
       "      <td>0.0000</td>\n",
       "    </tr>\n",
       "    <tr>\n",
       "      <th>-5</th>\n",
       "      <td>0.0000</td>\n",
       "    </tr>\n",
       "    <tr>\n",
       "      <th>-6</th>\n",
       "      <td>0.8591</td>\n",
       "    </tr>\n",
       "    <tr>\n",
       "      <th>-7</th>\n",
       "      <td>0.5994</td>\n",
       "    </tr>\n",
       "    <tr>\n",
       "      <th>-8</th>\n",
       "      <td>0.8360</td>\n",
       "    </tr>\n",
       "    <tr>\n",
       "      <th>-9</th>\n",
       "      <td>0.1280</td>\n",
       "    </tr>\n",
       "  </tbody>\n",
       "</table>\n",
       "</div>"
      ],
      "text/plain": [
       "    Polarity\n",
       " 0    0.7269\n",
       "-1    0.0000\n",
       "-2    0.3595\n",
       "-3    0.0000\n",
       "-4    0.0000\n",
       "-5    0.0000\n",
       "-6    0.8591\n",
       "-7    0.5994\n",
       "-8    0.8360\n",
       "-9    0.1280"
      ]
     },
     "execution_count": 11,
     "metadata": {},
     "output_type": "execute_result"
    }
   ],
   "source": [
    "data = analyze_tweets(api, 'realdonaldtrump')\n",
    "data.head(10)"
   ]
  },
  {
   "cell_type": "code",
   "execution_count": 12,
   "metadata": {},
   "outputs": [],
   "source": [
    "def get_color(polarity):\n",
    "    return (0, polarity, 0) if polarity >= 0 else (-polarity, 0, 0)"
   ]
  },
  {
   "cell_type": "code",
   "execution_count": 13,
   "metadata": {},
   "outputs": [],
   "source": [
    "def plot_analysis(data, target_username):\n",
    "    plt.figure(figsize=(16, 8))\n",
    "    avg_polarity = data['Polarity'].mean()\n",
    "    avg_polarity_text = 'Very Positive' if avg_polarity >= 0.75 else \\\n",
    "                        'Positive' if avg_polarity >= 0.5 else \\\n",
    "                        'Positively Neutral' if avg_polarity >= 0 else \\\n",
    "                        'Negatively Neutral' if avg_polarity >= -0.5 else \\\n",
    "                        'Negative' if avg_polarity >= -0.75 else \\\n",
    "                        'Very Negative'\n",
    "    color = get_color(avg_polarity)\n",
    "    plt.plot(data.index, data['Polarity'], c=color, linewidth=1, linestyle='solid', marker='o', markersize=3)\n",
    "    plt.xlim(-len(data.index) + 1, 0)\n",
    "    plt.xlabel('Tweets Age', fontsize=16)\n",
    "    plt.ylabel('Tweet Polarity', fontsize=16)\n",
    "    plt.xticks(fontsize=16)\n",
    "    plt.yticks([-1, -0.5, 0, 0.5, 1], ['Strongly\\nNegative', 'Likely\\nNegative', 'Neutral', 'Likely\\nPositive', 'Strongly\\nPositive'], fontsize=16, ma='left')\n",
    "    plt.title(f'Sentiment Analysis of @{target_username} Tweets ({datetime.strftime(datetime.now(), \"%M/%D/%Y\")}\\n(Generally, a {avg_polarity_text} User)',fontsize=16)\n",
    "    plt.grid(alpha=0.3)\n",
    "    file_name = f'{target_username}.png'\n",
    "    plt.savefig(file_name)\n",
    "    return file_name"
   ]
  },
  {
   "cell_type": "code",
   "execution_count": null,
   "metadata": {},
   "outputs": [],
   "source": [
    "since_id = None\n",
    "while True:\n",
    "    mentions = get_mentions(api, self_username, since_id)\n",
    "    for mention in mentions:\n",
    "        tweet_text = mention['text']\n",
    "        requested_by = mention['user']\n",
    "        self_tweet = requested_by == self_username\n",
    "        if self_tweet:\n",
    "            inf(f'Tweet \"{tweet_text}\" is done by the target user himself, so no need to react to it')\n",
    "        #    continue\n",
    "        all_mentions = mention['user_mentions']\n",
    "        other_users_mentions = set(all_mentions)  \n",
    "        other_users_mentions.discard(self_username)\n",
    "        self_analysis = len(all_mentions) > 1 and len(other_users_mentions) == 0\n",
    "        if self_analysis:\n",
    "            inf(f'Tweet \"{tweet_text}\" is done by \"{requested_by}\" but asks \"{self_username}\" to analyze himself')\n",
    "            #TODO: tweet about it\n",
    "            continue\n",
    "        if len(other_users_mentions) > 1:\n",
    "            inf(f'Tweet \"{tweet_text}\" is done by \"{requested_by}\" but asks \"{self_username}\" to analyze multiple user')\n",
    "            #TODO: tweet about it\n",
    "            continue"
   ]
  }
 ],
 "metadata": {
  "kernelspec": {
   "display_name": "Python 3",
   "language": "python",
   "name": "python3"
  },
  "language_info": {
   "codemirror_mode": {
    "name": "ipython",
    "version": 3
   },
   "file_extension": ".py",
   "mimetype": "text/x-python",
   "name": "python",
   "nbconvert_exporter": "python",
   "pygments_lexer": "ipython3",
   "version": "3.6.6"
  }
 },
 "nbformat": 4,
 "nbformat_minor": 2
}
